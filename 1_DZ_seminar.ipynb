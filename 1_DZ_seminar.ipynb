{
 "cells": [
  {
   "cell_type": "code",
   "execution_count": null,
   "metadata": {},
   "outputs": [],
   "source": []
  }
 ],
 "metadata": {
  "kernelspec": {
   "display_name": "Python 3",
   "language": "python",
   "name": "python3"
  },
  "language_info": {
   "name": "python",
   "version": "3.11.2"
  },
  "orig_nbformat": 4,
  "vscode": {
   "interpreter": {
    "hash": "d333b96aeaee2c8321780592aea1497636fd2c12a30bd8cc607482360de3cdc0"
   }
  }
 },
 "nbformat": 4,
 "nbformat_minor": 2
}
